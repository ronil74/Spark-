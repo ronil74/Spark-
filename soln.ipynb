{
 "cells": [
  {
   "cell_type": "markdown",
   "metadata": {
    "application/vnd.databricks.v1+cell": {
     "cellMetadata": {},
     "inputWidgets": {},
     "nuid": "7601bf0e-75f1-4b25-97f1-54e1d855bd12",
     "showTitle": false,
     "title": ""
    }
   },
   "source": [
    "# [CSC8101] Engineering for AI - 2024 Spark Coursework"
   ]
  },
  {
   "cell_type": "markdown",
   "metadata": {
    "application/vnd.databricks.v1+cell": {
     "cellMetadata": {},
     "inputWidgets": {},
     "nuid": "a451fe1b-c36e-4226-a708-a903f5844f7d",
     "showTitle": false,
     "title": ""
    }
   },
   "source": [
    "## Coursework overview\n",
    "\n",
    "### Inputs\n",
    "\n",
    "- **NYC Taxi Trips dataset** - list of recorded taxi trips, each with several characteristics, namely: distance, number of passengers, origin zone, destination zone and trip cost (total amount charged to customer).\n",
    "- **NYC Zones dataset** - list of zones wherein trips can originate/terminate.\n",
    "\n",
    "### Tasks\n",
    "\n",
    "1. Data cleaning\n",
    "  1. Remove \"0 distance\" and 'no passengers' records.\n",
    "  2. Remove outlier records. \n",
    "2. Add new columns\n",
    "  1. Join with zones dataset\n",
    "  2. Compute the unit profitability of each trip\n",
    "3. Zone summarisation and ranking\n",
    "  1. Summarise trip data per zone\n",
    "  2. Obtain the top 10 ranks according to:\n",
    "    1. The total trip volume\n",
    "    2. Their average profitabilitiy\n",
    "    3. The total passenger volume\n",
    "4. Record the total and task-specific execution times for each dataset size and format.\n",
    "\n",
    "### How to\n",
    "\n",
    "###### Code structure and implementation\n",
    "\n",
    "- You must implement your solution to each task in the provided function code skeleton.\n",
    "- The task-specific functions are combined together to form the full pipeline code, executed last (do not modify this code).\n",
    "- Before implementing the specified function skeleton, you should develop and test your solution on separate code cells (create and destroy cells as needed).\n",
    "\n",
    "###### Development\n",
    "\n",
    "- Develop an initial working solution for the 'S' dataset and only then optimise it for larger dataset sizes.\n",
    "- To perform vectorised operations on a DataFrame:\n",
    "  - use the API docs to look for existing vectorised functions in: https://spark.apache.org/docs/latest/api/python/reference/pyspark.sql.html#functions\n",
    "  - if a customised function is required (e.g. to add a new column based on a linear combination of other columns), implement your own User Defined Function (UDF). See:  https://spark.apache.org/docs/latest/sql-ref-functions-udf-scalar.html\n",
    "- Use only the `pyspark.sql` API - documentation link below - (note that searching through the docs returns results from the `pyspark.sql` API together with the `pyspark.pandas` API):\n",
    "  - https://spark.apache.org/docs/3.2.0/api/python/reference/pyspark.sql.html\n",
    "- Periodically download your notebook to your computer as backup and safety measure against accidental file deletion.\n",
    " \n",
    "###### Execution time measurement\n",
    "\n",
    "- Execution time is calculated and returned by the Spark Engine and shown in the output region of the cell.\n",
    "- To measure the execution time of a task you must perform a `collect` or similar operation (e.g. `take`) on the returned DataFrame."
   ]
  },
  {
   "cell_type": "markdown",
   "metadata": {
    "application/vnd.databricks.v1+cell": {
     "cellMetadata": {},
     "inputWidgets": {},
     "nuid": "d26c1c73-cac4-4937-8201-4c15cc6be296",
     "showTitle": false,
     "title": ""
    }
   },
   "source": [
    "## Task 0 - Read data\n",
    "\n",
    "The code below is ready to run. **Do not modify this code**. It does the following:\n",
    "\n",
    "- Reads the 'zones' dataset into variable 'zone_names'\n",
    "- Defines the `init_trips` function that allows you to read the 'trips' dataset (from the DBFS FileStore) given the dataset size ('S' to 'XXL') and format ('parquet' or 'delta') as function arguments\n",
    "- Defines the `pipeline` function, called in Task 4 to measure the execution time of the entire data processing pipeline\n",
    "- Shows you how to call the `init_trips` function and display dataset characteristics (number of rows, schema)"
   ]
  },
  {
   "cell_type": "code",
   "execution_count": 0,
   "metadata": {
    "application/vnd.databricks.v1+cell": {
     "cellMetadata": {
      "byteLimit": 2048000,
      "rowLimit": 10000
     },
     "inputWidgets": {},
     "nuid": "57aaebcc-fc2a-4d86-a58e-c1489efeadaf",
     "showTitle": false,
     "title": ""
    }
   },
   "outputs": [],
   "source": [
    "## global imports\n",
    "import pyspark.sql as ps\n",
    "import pyspark.sql.functions as pf\n",
    "import pandas as pd\n",
    "\n",
    "# Load zone names dataset - (much faster to read small file from git than dbfs)\n",
    "zones_file_url = 'https://raw.githubusercontent.com/mutazb999/CSC8101-lab-and-coursework/main/02-assignment-spark/taxi_zone_names.csv'\n",
    "zone_names = spark.createDataFrame(pd.read_csv(zones_file_url))\n",
    "\n",
    "# Function to load trips dataset by selected dataset size\n",
    "def init_trips(size = 'S', data_format = \"parquet\", taxi_folder = \"/FileStore/tables/taxi\"):     \n",
    "    \n",
    "    files = {\n",
    "        'S'  : ['2021_07'],\n",
    "        'M'  : ['2021'],\n",
    "        'L'  : ['2020_21'],\n",
    "        'XL' : ['1_6_2019', '7_12_2019'],\n",
    "        'XXL': ['1_6_2019', '7_12_2019', '2020_21']\n",
    "    }\n",
    "    \n",
    "    # validate input dataset size\n",
    "    if size not in files.keys():\n",
    "        print(\"Invalid input dataset size. Must be one of {}\".format(list(files.keys())))\n",
    "        return None               \n",
    "    \n",
    "    if data_format == \"parquet\":\n",
    "        filenames = list(map(lambda s: f'{taxi_folder}/parquet/tripdata_{s}.parquet', files[size]))\n",
    "        trips_df = spark.read.parquet(filenames[0])\n",
    "        \n",
    "        for name in filenames[1:]:\n",
    "            trips_df = trips_df.union(spark.read.parquet(name))\n",
    "            \n",
    "    elif data_format == \"delta\":\n",
    "        filenames = f\"{taxi_folder}/delta/taxi-{size}-delta/\"\n",
    "        trips_df = spark.read.format(\"delta\").load(filenames)\n",
    "    \n",
    "    else:\n",
    "        print(\"Invalid data format. Must be one of {}\".format(['parquet', 'delta']))\n",
    "        return None\n",
    "        \n",
    "    print(\n",
    "    \"\"\"\n",
    "    Trips dataset loaded!\n",
    "    ---\n",
    "      Size: {s}\n",
    "      Format: {f}\n",
    "      Tables loaded: {ds}\n",
    "      Number of trips (dataset rows): {tc:,}\n",
    "    \"\"\".format(s = size, f = data_format, ds = filenames, tc = trips_df.count()))\n",
    "    \n",
    "    return trips_df\n",
    "\n",
    "# helper function to print dataset row count\n",
    "def print_count(df):\n",
    "    print(\"Row count: {t:,}\".format(t = df.count()))\n",
    "\n",
    "def pipeline(trips_df, with_task_12 = False, zones_df = zone_names):\n",
    "    # Do not edit\n",
    "    #---\n",
    "\n",
    "    ## Task 1.1\n",
    "    _trips_11 = t11_remove_zeros(trips_df)\n",
    "\n",
    "    ## Task 1.2\n",
    "    if with_task_12:\n",
    "        _trips_12 = t12_remove_outliers(_trips_11)\n",
    "    else:\n",
    "        _trips_12 = _trips_11\n",
    "\n",
    "    ## Task 2.1\n",
    "    _trips_21 = t21_join_zones(_trips_12, zones_df = zone_names)\n",
    "\n",
    "    ## Task 2.2\n",
    "    _trips_22 = t22_calc_profit(_trips_21)\n",
    "\n",
    "    ## Task 3.1\n",
    "    _graph = t31_summarise_trips(_trips_22)\n",
    "\n",
    "    ## Task 3.2\n",
    "    _zones = t32_summarise_zones_pairs(_graph)\n",
    "\n",
    "    _top10_trips     = t32_top10_trips(_zones)\n",
    "    _top10_profit    = t32_top10_profit(_zones)\n",
    "    _top10_passenger = t32_top10_passenger(_zones)\n",
    "    \n",
    "    return([_top10_trips, _top10_profit, _top10_passenger])"
   ]
  },
  {
   "cell_type": "code",
   "execution_count": 0,
   "metadata": {
    "application/vnd.databricks.v1+cell": {
     "cellMetadata": {
      "byteLimit": 2048000,
      "rowLimit": 10000
     },
     "inputWidgets": {},
     "nuid": "490ab841-fd73-4466-a6e7-5121395deca9",
     "showTitle": false,
     "title": ""
    }
   },
   "outputs": [
    {
     "output_type": "stream",
     "name": "stdout",
     "output_type": "stream",
     "text": [
      "\n    Trips dataset loaded!\n    ---\n      Size: S\n      Format: parquet\n      Tables loaded: ['/FileStore/tables/taxi/parquet/tripdata_2021_07.parquet']\n      Number of trips (dataset rows): 2,898,033\n    \n"
     ]
    },
    {
     "output_type": "execute_result",
     "data": {
      "text/plain": [
       "[Row(index=0, VendorID=1.0, tpep_pickup_datetime='2021-07-01 00:08:51', tpep_dropoff_datetime='2021-07-01 00:13:05', passenger_count=1.0, trip_distance=0.8, RatecodeID=1.0, store_and_fwd_flag='N', PULocationID=90, DOLocationID=68, payment_type=1.0, fare_amount=5.0, extra=3.0, mta_tax=0.5, tip_amount=0.0, tolls_amount=0.0, improvement_surcharge=0.3, total_amount=8.8, congestion_surcharge=2.5, cab_type='Y', lpep_pickup_datetime=None, lpep_dropoff_datetime=None, ehail_fee=None, trip_type=None)]"
      ]
     },
     "execution_count": 2,
     "metadata": {},
     "output_type": "execute_result"
    }
   ],
   "source": [
    "# CHANGE the value of argument 'size' to record the pipeline execution times for increasing dataset sizes\n",
    "SIZE = 'S'\n",
    "DATA_FORMAT = 'parquet'\n",
    "\n",
    "# Load trips dataset\n",
    "trips = init_trips(SIZE, DATA_FORMAT)\n",
    "\n",
    "# uncomment line only for small datasets\n",
    "trips.take(1)"
   ]
  },
  {
   "cell_type": "code",
   "execution_count": 0,
   "metadata": {
    "application/vnd.databricks.v1+cell": {
     "cellMetadata": {
      "byteLimit": 2048000,
      "rowLimit": 10000
     },
     "inputWidgets": {},
     "nuid": "92da0d12-33a0-4df0-b1d2-607ebb65d948",
     "showTitle": false,
     "title": ""
    }
   },
   "outputs": [
    {
     "output_type": "stream",
     "name": "stdout",
     "output_type": "stream",
     "text": [
      "Row count: 2,898,033\n"
     ]
    }
   ],
   "source": [
    "print_count(trips)"
   ]
  },
  {
   "cell_type": "code",
   "execution_count": 0,
   "metadata": {
    "application/vnd.databricks.v1+cell": {
     "cellMetadata": {
      "byteLimit": 2048000,
      "rowLimit": 10000
     },
     "inputWidgets": {},
     "nuid": "490e67f7-4457-4bd5-b89a-a6d24c5645d5",
     "showTitle": false,
     "title": ""
    }
   },
   "outputs": [
    {
     "output_type": "stream",
     "name": "stdout",
     "output_type": "stream",
     "text": [
      "root\n |-- index: long (nullable = true)\n |-- VendorID: double (nullable = true)\n |-- tpep_pickup_datetime: string (nullable = true)\n |-- tpep_dropoff_datetime: string (nullable = true)\n |-- passenger_count: double (nullable = true)\n |-- trip_distance: double (nullable = true)\n |-- RatecodeID: double (nullable = true)\n |-- store_and_fwd_flag: string (nullable = true)\n |-- PULocationID: long (nullable = true)\n |-- DOLocationID: long (nullable = true)\n |-- payment_type: double (nullable = true)\n |-- fare_amount: double (nullable = true)\n |-- extra: double (nullable = true)\n |-- mta_tax: double (nullable = true)\n |-- tip_amount: double (nullable = true)\n |-- tolls_amount: double (nullable = true)\n |-- improvement_surcharge: double (nullable = true)\n |-- total_amount: double (nullable = true)\n |-- congestion_surcharge: double (nullable = true)\n |-- cab_type: string (nullable = true)\n |-- lpep_pickup_datetime: string (nullable = true)\n |-- lpep_dropoff_datetime: string (nullable = true)\n |-- ehail_fee: double (nullable = true)\n |-- trip_type: double (nullable = true)\n\n"
     ]
    }
   ],
   "source": [
    "# dataset schemas\n",
    "trips.printSchema()"
   ]
  },
  {
   "cell_type": "code",
   "execution_count": 0,
   "metadata": {
    "application/vnd.databricks.v1+cell": {
     "cellMetadata": {
      "byteLimit": 2048000,
      "rowLimit": 10000
     },
     "inputWidgets": {},
     "nuid": "5e2ab160-b9b8-4c4a-bb70-fc3197bae230",
     "showTitle": false,
     "title": ""
    }
   },
   "outputs": [
    {
     "output_type": "display_data",
     "data": {
      "text/html": [
       "<style scoped>\n",
       "  .table-result-container {\n",
       "    max-height: 300px;\n",
       "    overflow: auto;\n",
       "  }\n",
       "  table, th, td {\n",
       "    border: 1px solid black;\n",
       "    border-collapse: collapse;\n",
       "  }\n",
       "  th, td {\n",
       "    padding: 5px;\n",
       "  }\n",
       "  th {\n",
       "    text-align: left;\n",
       "  }\n",
       "</style><div class='table-result-container'><table class='table-result'><thead style='background-color: white'><tr><th>PULocationID</th><th>DOLocationID</th><th>trip_distance</th><th>passenger_count</th><th>total_amount</th></tr></thead><tbody><tr><td>90</td><td>68</td><td>0.8</td><td>1.0</td><td>8.8</td></tr><tr><td>113</td><td>90</td><td>0.9</td><td>1.0</td><td>8.8</td></tr><tr><td>88</td><td>232</td><td>2.8</td><td>1.0</td><td>13.8</td></tr><tr><td>79</td><td>249</td><td>1.4</td><td>1.0</td><td>12.3</td></tr><tr><td>142</td><td>238</td><td>2.0</td><td>0.0</td><td>12.3</td></tr></tbody></table></div>"
      ]
     },
     "metadata": {
      "application/vnd.databricks.v1+output": {
       "addedWidgets": {},
       "aggData": [],
       "aggError": "",
       "aggOverflow": false,
       "aggSchema": [],
       "aggSeriesLimitReached": false,
       "aggType": "",
       "arguments": {},
       "columnCustomDisplayInfos": {},
       "data": [
        [
         90,
         68,
         0.8,
         1.0,
         8.8
        ],
        [
         113,
         90,
         0.9,
         1.0,
         8.8
        ],
        [
         88,
         232,
         2.8,
         1.0,
         13.8
        ],
        [
         79,
         249,
         1.4,
         1.0,
         12.3
        ],
        [
         142,
         238,
         2.0,
         0.0,
         12.3
        ]
       ],
       "datasetInfos": [],
       "dbfsResultPath": null,
       "isJsonSchema": true,
       "metadata": {},
       "overflow": false,
       "plotOptions": {
        "customPlotOptions": {},
        "displayType": "table",
        "pivotAggregation": null,
        "pivotColumns": null,
        "xColumns": null,
        "yColumns": null
       },
       "removedWidgets": [],
       "schema": [
        {
         "metadata": "{}",
         "name": "PULocationID",
         "type": "\"long\""
        },
        {
         "metadata": "{}",
         "name": "DOLocationID",
         "type": "\"long\""
        },
        {
         "metadata": "{}",
         "name": "trip_distance",
         "type": "\"double\""
        },
        {
         "metadata": "{}",
         "name": "passenger_count",
         "type": "\"double\""
        },
        {
         "metadata": "{}",
         "name": "total_amount",
         "type": "\"double\""
        }
       ],
       "type": "table"
      }
     },
     "output_type": "display_data"
    }
   ],
   "source": [
    "display(trips[['PULocationID', 'DOLocationID', 'trip_distance', 'passenger_count', 'total_amount']].take(5))"
   ]
  },
  {
   "cell_type": "code",
   "execution_count": 0,
   "metadata": {
    "application/vnd.databricks.v1+cell": {
     "cellMetadata": {
      "byteLimit": 2048000,
      "rowLimit": 10000
     },
     "inputWidgets": {},
     "nuid": "eee4451c-b49a-42a6-b87e-81aad4144cf1",
     "showTitle": false,
     "title": ""
    }
   },
   "outputs": [
    {
     "output_type": "stream",
     "name": "stdout",
     "output_type": "stream",
     "text": [
      "root\n |-- LocationID: long (nullable = true)\n |-- Borough: string (nullable = true)\n |-- Zone: string (nullable = true)\n |-- service_zone: string (nullable = true)\n\n"
     ]
    }
   ],
   "source": [
    "zone_names.printSchema()"
   ]
  },
  {
   "cell_type": "code",
   "execution_count": 0,
   "metadata": {
    "application/vnd.databricks.v1+cell": {
     "cellMetadata": {
      "byteLimit": 2048000,
      "rowLimit": 10000
     },
     "inputWidgets": {},
     "nuid": "8a1ed0a0-0621-471d-8332-d47b52f71817",
     "showTitle": false,
     "title": ""
    }
   },
   "outputs": [
    {
     "output_type": "display_data",
     "data": {
      "text/html": [
       "<style scoped>\n",
       "  .table-result-container {\n",
       "    max-height: 300px;\n",
       "    overflow: auto;\n",
       "  }\n",
       "  table, th, td {\n",
       "    border: 1px solid black;\n",
       "    border-collapse: collapse;\n",
       "  }\n",
       "  th, td {\n",
       "    padding: 5px;\n",
       "  }\n",
       "  th {\n",
       "    text-align: left;\n",
       "  }\n",
       "</style><div class='table-result-container'><table class='table-result'><thead style='background-color: white'><tr><th>LocationID</th><th>Borough</th><th>Zone</th><th>service_zone</th></tr></thead><tbody><tr><td>1</td><td>EWR</td><td>Newark Airport</td><td>EWR</td></tr><tr><td>2</td><td>Queens</td><td>Jamaica Bay</td><td>Boro Zone</td></tr><tr><td>3</td><td>Bronx</td><td>Allerton/Pelham Gardens</td><td>Boro Zone</td></tr><tr><td>4</td><td>Manhattan</td><td>Alphabet City</td><td>Yellow Zone</td></tr><tr><td>5</td><td>Staten Island</td><td>Arden Heights</td><td>Boro Zone</td></tr></tbody></table></div>"
      ]
     },
     "metadata": {
      "application/vnd.databricks.v1+output": {
       "addedWidgets": {},
       "aggData": [],
       "aggError": "",
       "aggOverflow": false,
       "aggSchema": [],
       "aggSeriesLimitReached": false,
       "aggType": "",
       "arguments": {},
       "columnCustomDisplayInfos": {},
       "data": [
        [
         1,
         "EWR",
         "Newark Airport",
         "EWR"
        ],
        [
         2,
         "Queens",
         "Jamaica Bay",
         "Boro Zone"
        ],
        [
         3,
         "Bronx",
         "Allerton/Pelham Gardens",
         "Boro Zone"
        ],
        [
         4,
         "Manhattan",
         "Alphabet City",
         "Yellow Zone"
        ],
        [
         5,
         "Staten Island",
         "Arden Heights",
         "Boro Zone"
        ]
       ],
       "datasetInfos": [],
       "dbfsResultPath": null,
       "isJsonSchema": true,
       "metadata": {},
       "overflow": false,
       "plotOptions": {
        "customPlotOptions": {},
        "displayType": "table",
        "pivotAggregation": null,
        "pivotColumns": null,
        "xColumns": null,
        "yColumns": null
       },
       "removedWidgets": [],
       "schema": [
        {
         "metadata": "{}",
         "name": "LocationID",
         "type": "\"long\""
        },
        {
         "metadata": "{}",
         "name": "Borough",
         "type": "\"string\""
        },
        {
         "metadata": "{}",
         "name": "Zone",
         "type": "\"string\""
        },
        {
         "metadata": "{}",
         "name": "service_zone",
         "type": "\"string\""
        }
       ],
       "type": "table"
      }
     },
     "output_type": "display_data"
    }
   ],
   "source": [
    "display(zone_names.take(5))"
   ]
  },
  {
   "cell_type": "markdown",
   "metadata": {
    "application/vnd.databricks.v1+cell": {
     "cellMetadata": {},
     "inputWidgets": {},
     "nuid": "99294dd5-92b7-4e50-9623-d00d82da993b",
     "showTitle": false,
     "title": ""
    }
   },
   "source": [
    "## Task 1 - Filter rows\n",
    "\n",
    "**Input:** trips dataset\n",
    "\n",
    "### Task 1.1 - Remove \"0 distance\" and 'no passengers' records\n",
    "\n",
    "Remove dataset rows that represent invalid trips:\n",
    "\n",
    "- Trips where `trip_distance == 0` (no distance travelled)\n",
    "- Trips where `passenger_count == 0` and `total_amount == 0` (we want to retain records where `total_amount` > 0 - these may be significant as the taxi may have carried some parcel, for example)\n",
    "\n",
    "Altogether, a record is removed if it satisfies the following conditions:\n",
    "\n",
    "`trip_distance == 0` or `(passenger_count == 0` and `total_amount == 0)`.\n",
    "\n",
    "**Recommended:** Select only the relevant dataset columns for this and subsequent tasks: `['PULocationID', 'DOLocationID', 'trip_distance', 'passenger_count', 'total_amount')]`\n",
    "\n",
    "### Task 1.2 - Remove outliers using the modified z-score\n",
    "\n",
    "Despite having removed spurious \"zero passengers\" trips in task 1.1, columns `total_amount` and `trip_distance` contain additional outlier values that must be identified and removed.\n",
    "\n",
    "To identify and remove outliers, you will use the modified [z-score](https://en.wikipedia.org/wiki/Standard_score) method.\n",
    "The modified z-score uses the median and [Median Absolute Deviation](https://en.wikipedia.org/wiki/Median_absolute_deviation) (MAD), instead of the mean and standard deviation, to determine how far an observation (indexed by i) is from the mean:\n",
    "\n",
    "$$z_i = \\frac{x_i - \\mathit{median}(\\mathbf{x})}{\\mathbf{MAD}},$$\n",
    "\n",
    "where x represents the input vector, xi is an element of x and zi is its corresponding z-score. In turn, the MAD formula is:\n",
    "\n",
    "$$\\mathbf{MAD} = 1.483 * \\mathit{median}(\\big\\lvert x_i - \\mathit{median}(\\mathbf{x})\\big\\rvert).$$\n",
    "\n",
    "Observations with **high** (absolute) z-score are considered outlier observations. A score is considered **high** if its __absolute z-score__ is larger than a threshold T = 3.5:\n",
    "\n",
    "$$\\big\\lvert z_i \\big\\rvert > 3.5.$$\n",
    "\n",
    "where T represents the number of unit standard deviations beyond which a score is considered an outlier ([wiki](https://en.wikipedia.org/wiki/68%E2%80%9395%E2%80%9399.7_rule)).\n",
    "\n",
    "This process is repeated twice, once for each of the columns `total_amount` and `trip_distance` (in any order).\n",
    "\n",
    "**Important:** Use the surrogate function [`percentile_approx`](https://spark.apache.org/docs/3.2.0/api/python/reference/api/pyspark.sql.functions.percentile_approx.html?highlight=percentile#pyspark.sql.functions.percentile_approx) to estimate the median (calculating the median values for a column is expensive as it cannot be parallelised efficiently)."
   ]
  },
  {
   "cell_type": "code",
   "execution_count": 0,
   "metadata": {
    "application/vnd.databricks.v1+cell": {
     "cellMetadata": {},
     "inputWidgets": {},
     "nuid": "b53021ef-a0ab-43be-8885-142617707a5c",
     "showTitle": false,
     "title": ""
    }
   },
   "outputs": [
    {
     "output_type": "display_data",
     "data": {
      "text/html": [
       "<style scoped>\n",
       "  .ansiout {\n",
       "    display: block;\n",
       "    unicode-bidi: embed;\n",
       "    white-space: pre-wrap;\n",
       "    word-wrap: break-word;\n",
       "    word-break: break-all;\n",
       "    font-family: \"Menlo\", \"Monaco\", \"Consolas\", \"Ubuntu Mono\", \"Source Code Pro\", monospace;\n",
       "    font-size: 13px;\n",
       "    color: #555;\n",
       "    margin-left: 4px;\n",
       "    line-height: 19px;\n",
       "  }\n",
       "</style>"
      ]
     },
     "metadata": {
      "application/vnd.databricks.v1+output": {
       "arguments": {},
       "data": "",
       "errorSummary": "",
       "errorTraceType": null,
       "metadata": {},
       "type": "ipynbError"
      }
     },
     "output_type": "display_data"
    }
   ],
   "source": [
    "# develop your solution here (create/destroy cells as needed) and then implement it in the functions below"
   ]
  },
  {
   "cell_type": "code",
   "execution_count": 0,
   "metadata": {
    "application/vnd.databricks.v1+cell": {
     "cellMetadata": {
      "byteLimit": 2048000,
      "rowLimit": 10000
     },
     "inputWidgets": {},
     "nuid": "4ac2d5d7-21d4-4bbb-b2ea-0e6e4df89a58",
     "showTitle": false,
     "title": ""
    }
   },
   "outputs": [],
   "source": [
    "# Your solution implementation to task 1.1 goes HERE\n",
    "def t11_remove_zeros(df):\n",
    "    # input: trips dataset\n",
    "    df=trips.filter((trips.trip_distance != 0) | ((trips.passenger_count != 0) & (trips.total_amount != 0)))\n",
    "    return df"
   ]
  },
  {
   "cell_type": "code",
   "execution_count": 0,
   "metadata": {
    "application/vnd.databricks.v1+cell": {
     "cellMetadata": {
      "byteLimit": 2048000,
      "rowLimit": 10000
     },
     "inputWidgets": {},
     "nuid": "3c6c287d-8707-4989-8ee9-2967a486c925",
     "showTitle": false,
     "title": ""
    }
   },
   "outputs": [
    {
     "output_type": "stream",
     "name": "stdout",
     "output_type": "stream",
     "text": [
      "Row count: 2,890,208\n"
     ]
    }
   ],
   "source": [
    "# execute task 1.1\n",
    "trips_11 = t11_remove_zeros(trips)\n",
    "\n",
    "print_count(trips_11)\n",
    "\n",
    "## uncomment only for smaller datasets\n",
    "# display(trips_11.take(10))"
   ]
  },
  {
   "cell_type": "code",
   "execution_count": 0,
   "metadata": {
    "application/vnd.databricks.v1+cell": {
     "cellMetadata": {
      "byteLimit": 2048000,
      "rowLimit": 10000
     },
     "inputWidgets": {},
     "nuid": "c0162cd3-d060-495d-9a86-ebf4a6f507ac",
     "showTitle": false,
     "title": ""
    }
   },
   "outputs": [],
   "source": [
    "# Your solution implementation to task 1.2 goes HERE\n",
    "from pyspark.sql.window import Window\n",
    "from pyspark.sql.functions import abs\n",
    "import sys\n",
    "import numpy as np\n",
    "def t12_remove_outliers(df):\n",
    "    #total_amount\n",
    "    median = df.agg(pf.percentile_approx(df.trip_distance, 0.5, 10000)).alias(\"median\").collect()[0][0]\n",
    "    subTrip = abs(df.trip_distance - median)\n",
    "    df = df.withColumn(\"subtractedTrip\", pf.lit(subTrip))\n",
    "    madTrip = 1.438 * (df.agg(pf.percentile_approx(df.subtractedTrip, 0.5, 10000)).alias(\"median\").collect()[0][0])\n",
    "    df = df.withColumn(\"madTrip\", pf.lit(madTrip))\n",
    "    zScoreAmount = abs(subTrip/madTrip)\n",
    "    df = df.withColumn(\"zscoreTrip\", pf.lit(zScoreAmount))\n",
    "    \n",
    "    # total_distance\n",
    "    totalMedian = df.agg(pf.percentile_approx(df.total_amount, 0.5,1000)).alias(\"median\").collect()[0][0]\n",
    "    subTotal = abs(df.total_amount - median)\n",
    "    df = df.withColumn(\"subtractedAmount\", pf.lit(subTotal))\n",
    "    madTotal = 1.438 * (df.agg(pf.percentile_approx(df.subtractedAmount, 0.5, 10000)).alias(\"median\").collect()[0][0])\n",
    "    df = df.withColumn(\"madAmount\", pf.lit(madTotal))\n",
    "    zScoreDist = abs(subTotal/madTotal)\n",
    "    df = df.withColumn(\"zscoreAmount\", pf.lit(zScoreDist))\n",
    "    \n",
    "    df = df.filter((df.zscoreTrip < 3.5) & (df.zscoreAmount < 3.5))\n",
    "    \n",
    "    df = df.drop(\"subtractedTrip\",\"madTrip\",\"zscoreTrip\",\"subtractedAmount\",\"madAmount\",\"ascoreAmount\")\n",
    "    return df"
   ]
  },
  {
   "cell_type": "code",
   "execution_count": 0,
   "metadata": {
    "application/vnd.databricks.v1+cell": {
     "cellMetadata": {
      "byteLimit": 2048000,
      "rowLimit": 10000
     },
     "inputWidgets": {},
     "nuid": "96533a0e-242b-42d6-bc10-3b1ea3a13681",
     "showTitle": false,
     "title": ""
    }
   },
   "outputs": [
    {
     "output_type": "stream",
     "name": "stdout",
     "output_type": "stream",
     "text": [
      "Row count: 2,538,711\n"
     ]
    }
   ],
   "source": [
    "# execute task 1.2\n",
    "trips_12 = t12_remove_outliers(trips_11)\n",
    "\n",
    "print_count(trips_12)\n",
    "# display(trips_12.take(10))"
   ]
  },
  {
   "cell_type": "markdown",
   "metadata": {
    "application/vnd.databricks.v1+cell": {
     "cellMetadata": {},
     "inputWidgets": {},
     "nuid": "77f3f561-5d39-46bf-84fa-0b0c3aafa0cc",
     "showTitle": false,
     "title": ""
    }
   },
   "source": [
    "## Task 2 - Compute new columns\n",
    "\n",
    "### Task 2.1 - Zone names\n",
    "\n",
    "Obtain the **start** and **end** zone names of each trip by joining the `trips` and `zone_names` datasets (i.e. by using the `zone_names` dataset as lookup table).\n",
    "\n",
    "**Note:** The columns containing the start and end zone ids of each trip are named `PULocationID` and `DOLocationID`, respectively.\n",
    "\n",
    "### Task 2.2 - Unit profitability\n",
    "\n",
    "Compute the column `unit_profitability = total_amount / trip_distance`."
   ]
  },
  {
   "cell_type": "code",
   "execution_count": 0,
   "metadata": {
    "application/vnd.databricks.v1+cell": {
     "cellMetadata": {},
     "inputWidgets": {},
     "nuid": "a61d8288-1539-4f34-856f-98aa7fd0f7f4",
     "showTitle": false,
     "title": ""
    }
   },
   "outputs": [
    {
     "output_type": "display_data",
     "data": {
      "text/html": [
       "<style scoped>\n",
       "  .ansiout {\n",
       "    display: block;\n",
       "    unicode-bidi: embed;\n",
       "    white-space: pre-wrap;\n",
       "    word-wrap: break-word;\n",
       "    word-break: break-all;\n",
       "    font-family: \"Menlo\", \"Monaco\", \"Consolas\", \"Ubuntu Mono\", \"Source Code Pro\", monospace;\n",
       "    font-size: 13px;\n",
       "    color: #555;\n",
       "    margin-left: 4px;\n",
       "    line-height: 19px;\n",
       "  }\n",
       "</style>"
      ]
     },
     "metadata": {
      "application/vnd.databricks.v1+output": {
       "arguments": {},
       "data": "",
       "errorSummary": "",
       "errorTraceType": null,
       "metadata": {},
       "type": "ipynbError"
      }
     },
     "output_type": "display_data"
    }
   ],
   "source": [
    "# develop your solution here (create/destroy cells as needed) and then implement it in the functions below"
   ]
  },
  {
   "cell_type": "code",
   "execution_count": 0,
   "metadata": {
    "application/vnd.databricks.v1+cell": {
     "cellMetadata": {
      "byteLimit": 2048000,
      "rowLimit": 10000
     },
     "inputWidgets": {},
     "nuid": "bf0cd0ff-8d0a-4b46-82de-e2edd56e2f10",
     "showTitle": false,
     "title": ""
    }
   },
   "outputs": [],
   "source": [
    "# Your solution implementation to task 2.1 goes HERE\n",
    "from pyspark.sql.functions import col\n",
    "def t21_join_zones(df, zones_df = zone_names):\n",
    "    # input: output of task 1.2 and zone_names dataset\n",
    "    df = df.join(zones_df, df.PULocationID == zones_df.LocationID).select(df[\"*\"],zones_df[\"Zone\"])\n",
    "    df = df.withColumnRenamed(\"Zone\",\"start\")\n",
    "    \n",
    "    zones_df = zones_df.select(\"LocationID\",col(\"Zone\").alias(\"New_Zone\"))\n",
    "    df = df.join(zones_df, df.DOLocationID == zones_df.LocationID).select(df[\"*\"],zones_df[\"New_Zone\"])\n",
    "    df = df.withColumnRenamed(\"New_Zone\",\"end\")\n",
    "    return df"
   ]
  },
  {
   "cell_type": "code",
   "execution_count": 0,
   "metadata": {
    "application/vnd.databricks.v1+cell": {
     "cellMetadata": {
      "byteLimit": 2048000,
      "rowLimit": 10000
     },
     "inputWidgets": {},
     "nuid": "6a3abc15-94bb-4352-964f-e3919956b363",
     "showTitle": false,
     "title": ""
    }
   },
   "outputs": [
    {
     "output_type": "stream",
     "name": "stdout",
     "output_type": "stream",
     "text": [
      "Row count: 2,538,711\n"
     ]
    }
   ],
   "source": [
    "# execute task 2.1\n",
    "trips_21 = t21_join_zones(trips_12, zones_df = zone_names)\n",
    "\n",
    "print_count(trips_21)\n",
    "# display(trips_21.take(10))"
   ]
  },
  {
   "cell_type": "code",
   "execution_count": 0,
   "metadata": {
    "application/vnd.databricks.v1+cell": {
     "cellMetadata": {
      "byteLimit": 2048000,
      "rowLimit": 10000
     },
     "inputWidgets": {},
     "nuid": "244ecaed-2632-4ed1-ab91-e41d8a91b7c2",
     "showTitle": false,
     "title": ""
    }
   },
   "outputs": [],
   "source": [
    "# Your solution implementation to task 2.2 goes HERE\n",
    "def t22_calc_profit(df):\n",
    "    # input: output of task 2.1\n",
    "    df = df.withColumn(\"Unit_Profitability\", pf.lit(abs(df.total_amount/df.trip_distance)))\n",
    "    return df"
   ]
  },
  {
   "cell_type": "code",
   "execution_count": 0,
   "metadata": {
    "application/vnd.databricks.v1+cell": {
     "cellMetadata": {
      "byteLimit": 2048000,
      "rowLimit": 10000
     },
     "inputWidgets": {},
     "nuid": "a3528be7-4fe2-4e68-a94b-a3b33ada952c",
     "showTitle": false,
     "title": ""
    }
   },
   "outputs": [
    {
     "output_type": "stream",
     "name": "stdout",
     "output_type": "stream",
     "text": [
      "Row count: 2,538,711\n"
     ]
    }
   ],
   "source": [
    "# execute task 2.2\n",
    "trips_22 = t22_calc_profit(trips_21)\n",
    "\n",
    "print_count(trips_22)\n",
    "# display(trips_22.take(10))"
   ]
  },
  {
   "cell_type": "markdown",
   "metadata": {
    "application/vnd.databricks.v1+cell": {
     "cellMetadata": {},
     "inputWidgets": {},
     "nuid": "93c4a6e7-512f-40a8-ad2c-41a84ade373f",
     "showTitle": false,
     "title": ""
    }
   },
   "source": [
    "## Task 3: Rank zones by traffic, passenger volume and profitability\n",
    "\n",
    "### 3.1 - Summarise interzonal travel\n",
    "\n",
    "Build a graph data structure of zone-to-zone traffic, representing aggregated data about trips between any two zones. The graph will have one node for each zone and one edge connecting each pair of zones. In addition, edges contain aggregate information about all trips between those zones. \n",
    "\n",
    "For example, zones Z1 and Z2 are connected by *two* edges: edge Z1 --> Z2 carries aggregate data about all trips that originated in Z1 and ended in Z2, and edge Z2 --> Z1 carries aggregate data about all trips that originated in Z2 and ended in Z1.\n",
    "\n",
    "The aggregate information of interzonal travel must include the following data:\n",
    "\n",
    "- `average_unit_profit` - the average unit profitability (calculated as `mean(unit_profitability)`).\n",
    "- `trips_count` -- the total number of recorded trips.\n",
    "- `total_passengers` -- the total number of passenger across all trips (sum of `passenger_count`).\n",
    "\n",
    "This graph can be represented as a new dataframe, with schema:\n",
    "\n",
    "\\[`PULocationID`, `DOLocationID`, `average_unit_profit`, `trips_count`, `total_passengers` \\]\n",
    "\n",
    "__hint__: the `groupby()` operator produces a `pyspark.sql.GroupedData` structure. You can then calculate multiple aggregations from this using `pyspark.sql.GroupedData.agg()`: \n",
    "- https://spark.apache.org/docs/3.2.0/api/python/reference/pyspark.pandas/api/pyspark.pandas.DataFrame.groupby.html\n",
    "- https://spark.apache.org/docs/3.2.0/api/python/reference/api/pyspark.sql.GroupedData.agg.html\n",
    "\n",
    "### Task 3.2 - Obtain top-10 zones\n",
    "\n",
    "For each of the following measures, report the top-10 zones _using their plain names you dereferenced in the previous step, not the codes_. Note that this requires ranking the nodes in different orders. Specifically, you need to calculate the following further aggregations:\n",
    "\n",
    "- the **total** number of trips originating from Z. This is simply the sum of `trips_count` over all outgoing edges for Z, i.e., edges of the form Z -> \\*\n",
    "- the **average** profitability of a zone. This is the average of all `average_unit_profit` over all *outgoing* edges from Z.\n",
    "- The **total** passenger volume measured as the **sum** of `total_passengers` carried in trips that originate from Z"
   ]
  },
  {
   "cell_type": "code",
   "execution_count": 0,
   "metadata": {
    "application/vnd.databricks.v1+cell": {
     "cellMetadata": {},
     "inputWidgets": {},
     "nuid": "069fc68b-acdd-47c2-be12-27d32b7916c8",
     "showTitle": false,
     "title": ""
    }
   },
   "outputs": [
    {
     "output_type": "display_data",
     "data": {
      "text/html": [
       "<style scoped>\n",
       "  .ansiout {\n",
       "    display: block;\n",
       "    unicode-bidi: embed;\n",
       "    white-space: pre-wrap;\n",
       "    word-wrap: break-word;\n",
       "    word-break: break-all;\n",
       "    font-family: \"Menlo\", \"Monaco\", \"Consolas\", \"Ubuntu Mono\", \"Source Code Pro\", monospace;\n",
       "    font-size: 13px;\n",
       "    color: #555;\n",
       "    margin-left: 4px;\n",
       "    line-height: 19px;\n",
       "  }\n",
       "</style>"
      ]
     },
     "metadata": {
      "application/vnd.databricks.v1+output": {
       "arguments": {},
       "data": "",
       "errorSummary": "",
       "errorTraceType": null,
       "metadata": {},
       "type": "ipynbError"
      }
     },
     "output_type": "display_data"
    }
   ],
   "source": [
    "# develop your solution here (create/destroy cells as needed) and then implement it in the functions below"
   ]
  },
  {
   "cell_type": "code",
   "execution_count": 0,
   "metadata": {
    "application/vnd.databricks.v1+cell": {
     "cellMetadata": {
      "byteLimit": 2048000,
      "rowLimit": 10000
     },
     "inputWidgets": {},
     "nuid": "38084194-2635-46aa-ac74-93509c03a86e",
     "showTitle": false,
     "title": ""
    }
   },
   "outputs": [],
   "source": [
    "## Your solution to task 3.1 goes HERE\n",
    "from pyspark.sql.functions import avg, mean, sum\n",
    "import pyspark.sql.utils\n",
    "def t31_summarise_trips(df):\n",
    "    # input: output of task 2.2\n",
    "    df = df.groupby(df.PULocationID, df.DOLocationID).agg(pf.mean(df.Unit_Profitability),pf.count(df.PULocationID),pf.sum(df.passenger_count))\n",
    "    df = df.withColumnRenamed('avg(Unit_Profitability)','average_Unit_Profitability').withColumnRenamed('count(PULocationID)', 'trips_count').withColumnRenamed('sum(passenger_count)', 'total_passengers')\n",
    "    return df"
   ]
  },
  {
   "cell_type": "code",
   "execution_count": 0,
   "metadata": {
    "application/vnd.databricks.v1+cell": {
     "cellMetadata": {
      "byteLimit": 2048000,
      "rowLimit": 10000
     },
     "inputWidgets": {},
     "nuid": "b81c74ad-e5f1-4b69-a320-bdf375b94e8d",
     "showTitle": false,
     "title": ""
    }
   },
   "outputs": [
    {
     "output_type": "stream",
     "name": "stdout",
     "output_type": "stream",
     "text": [
      "Row count: 17,454\n"
     ]
    }
   ],
   "source": [
    "# execute task 3.1\n",
    "graph = t31_summarise_trips(trips_22)\n",
    "\n",
    "print_count(graph)\n",
    "# display(graph.take(10))"
   ]
  },
  {
   "cell_type": "code",
   "execution_count": 0,
   "metadata": {
    "application/vnd.databricks.v1+cell": {
     "cellMetadata": {
      "byteLimit": 2048000,
      "rowLimit": 10000
     },
     "inputWidgets": {},
     "nuid": "c285cd2d-861b-4790-8fe8-4b4b6cdbc8f4",
     "showTitle": false,
     "title": ""
    }
   },
   "outputs": [],
   "source": [
    "# Your solution to task 3.2 goes HERE (implement each of the functions below)\n",
    "def t32_summarise_zones_pairs(df, zones_df = zone_names):\n",
    "    df = df.groupby(df.PULocationID).agg(pf.sum(df.trips_count), pf.mean(df.average_Unit_Profitability), pf.sum(df.total_passengers))\n",
    "    df = df.withColumnRenamed('sum(trips_count)', 'total_trips').withColumnRenamed('avg(average_Unit_Profitability)', 'average profitability').withColumnRenamed('sum(total_passengers)', 'total passenger').join(zones_df, df.PULocationID == zones_df.LocationID, how = 'left')\n",
    "    df = df.drop('Borough').drop('service_zone')\n",
    "    return df\n",
    "\n",
    "# Top 10 ranked zones by traffic (trip volume)\n",
    "def t32_top10_trips(df_zones):\n",
    "    # input: output of task 3.2\n",
    "    df_zones = df_zones.orderBy(col('total_trips').desc()).take(10)\n",
    "    return df_zones\n",
    "\n",
    "# Top 10 ranked zones by profit\n",
    "def t32_top10_profit(df_zones):\n",
    "    # input: output of task 3.2\n",
    "    df_zones = df_zones.orderBy(col('average profitability').desc()).take(10)\n",
    "    return df_zones\n",
    "\n",
    "# Top 10 ranked zones by passenger volume\n",
    "def t32_top10_passenger(df_zones):\n",
    "    # input: output of task 3.2\n",
    "    df_zones = df_zones.orderBy(col('total passenger').desc()).take(10)\n",
    "    return df_zones"
   ]
  },
  {
   "cell_type": "code",
   "execution_count": 0,
   "metadata": {
    "application/vnd.databricks.v1+cell": {
     "cellMetadata": {
      "byteLimit": 2048000,
      "rowLimit": 10000
     },
     "inputWidgets": {},
     "nuid": "0bb32624-cca2-461e-816d-c49ecc98374e",
     "showTitle": false,
     "title": ""
    }
   },
   "outputs": [],
   "source": [
    "# execute task 3.2\n",
    "zones = t32_summarise_zones_pairs(graph)\n",
    "\n",
    "top10_trips     = t32_top10_trips(zones)\n",
    "top10_profit    = t32_top10_profit(zones)\n",
    "top10_passenger = t32_top10_passenger(zones)"
   ]
  },
  {
   "cell_type": "code",
   "execution_count": 0,
   "metadata": {
    "application/vnd.databricks.v1+cell": {
     "cellMetadata": {
      "byteLimit": 2048000,
      "rowLimit": 10000
     },
     "inputWidgets": {},
     "nuid": "382adcca-e15c-45d2-88bf-6ae97b8c6e30",
     "showTitle": false,
     "title": ""
    }
   },
   "outputs": [
    {
     "output_type": "display_data",
     "data": {
      "text/html": [
       "<style scoped>\n",
       "  .table-result-container {\n",
       "    max-height: 300px;\n",
       "    overflow: auto;\n",
       "  }\n",
       "  table, th, td {\n",
       "    border: 1px solid black;\n",
       "    border-collapse: collapse;\n",
       "  }\n",
       "  th, td {\n",
       "    padding: 5px;\n",
       "  }\n",
       "  th {\n",
       "    text-align: left;\n",
       "  }\n",
       "</style><div class='table-result-container'><table class='table-result'><thead style='background-color: white'><tr><th>PULocationID</th><th>total_trips</th><th>average profitability</th><th>total passenger</th><th>LocationID</th><th>Zone</th></tr></thead><tbody><tr><td>237</td><td>123407</td><td>7.646555928677428</td><td>172033.0</td><td>237</td><td>Upper East Side South</td></tr><tr><td>236</td><td>105072</td><td>6.979484429256904</td><td>145730.0</td><td>236</td><td>Upper East Side North</td></tr><tr><td>186</td><td>98289</td><td>10.930086418041705</td><td>139346.0</td><td>186</td><td>Penn Station/Madison Sq West</td></tr><tr><td>161</td><td>94964</td><td>8.430137067819656</td><td>136785.0</td><td>161</td><td>Midtown Center</td></tr><tr><td>170</td><td>89789</td><td>9.991756440443568</td><td>125613.0</td><td>170</td><td>Murray Hill</td></tr><tr><td>162</td><td>86387</td><td>7.9017548520981915</td><td>121418.0</td><td>162</td><td>Midtown East</td></tr><tr><td>142</td><td>82045</td><td>7.804087577291357</td><td>116186.0</td><td>142</td><td>Lincoln Square East</td></tr><tr><td>48</td><td>75921</td><td>8.87966179291784</td><td>109070.0</td><td>48</td><td>Clinton East</td></tr><tr><td>239</td><td>75829</td><td>8.154611278249472</td><td>107375.0</td><td>239</td><td>Upper West Side South</td></tr><tr><td>141</td><td>75381</td><td>11.119831042584911</td><td>105110.0</td><td>141</td><td>Lenox Hill West</td></tr></tbody></table></div>"
      ]
     },
     "metadata": {
      "application/vnd.databricks.v1+output": {
       "addedWidgets": {},
       "aggData": [],
       "aggError": "",
       "aggOverflow": false,
       "aggSchema": [],
       "aggSeriesLimitReached": false,
       "aggType": "",
       "arguments": {},
       "columnCustomDisplayInfos": {},
       "data": [
        [
         237,
         123407,
         7.646555928677428,
         172033.0,
         237,
         "Upper East Side South"
        ],
        [
         236,
         105072,
         6.979484429256904,
         145730.0,
         236,
         "Upper East Side North"
        ],
        [
         186,
         98289,
         10.930086418041705,
         139346.0,
         186,
         "Penn Station/Madison Sq West"
        ],
        [
         161,
         94964,
         8.430137067819656,
         136785.0,
         161,
         "Midtown Center"
        ],
        [
         170,
         89789,
         9.991756440443568,
         125613.0,
         170,
         "Murray Hill"
        ],
        [
         162,
         86387,
         7.9017548520981915,
         121418.0,
         162,
         "Midtown East"
        ],
        [
         142,
         82045,
         7.804087577291357,
         116186.0,
         142,
         "Lincoln Square East"
        ],
        [
         48,
         75921,
         8.87966179291784,
         109070.0,
         48,
         "Clinton East"
        ],
        [
         239,
         75829,
         8.154611278249472,
         107375.0,
         239,
         "Upper West Side South"
        ],
        [
         141,
         75381,
         11.119831042584911,
         105110.0,
         141,
         "Lenox Hill West"
        ]
       ],
       "datasetInfos": [],
       "dbfsResultPath": null,
       "isJsonSchema": true,
       "metadata": {},
       "overflow": false,
       "plotOptions": {
        "customPlotOptions": {},
        "displayType": "table",
        "pivotAggregation": null,
        "pivotColumns": null,
        "xColumns": null,
        "yColumns": null
       },
       "removedWidgets": [],
       "schema": [
        {
         "metadata": "{}",
         "name": "PULocationID",
         "type": "\"long\""
        },
        {
         "metadata": "{}",
         "name": "total_trips",
         "type": "\"long\""
        },
        {
         "metadata": "{}",
         "name": "average profitability",
         "type": "\"double\""
        },
        {
         "metadata": "{}",
         "name": "total passenger",
         "type": "\"double\""
        },
        {
         "metadata": "{}",
         "name": "LocationID",
         "type": "\"long\""
        },
        {
         "metadata": "{}",
         "name": "Zone",
         "type": "\"string\""
        }
       ],
       "type": "table"
      }
     },
     "output_type": "display_data"
    }
   ],
   "source": [
    "# use 'display()' or return a pandas DataFrame for 'pretty' output\n",
    "#top10_trips\n",
    "display(top10_trips)"
   ]
  },
  {
   "cell_type": "code",
   "execution_count": 0,
   "metadata": {
    "application/vnd.databricks.v1+cell": {
     "cellMetadata": {
      "byteLimit": 2048000,
      "rowLimit": 10000
     },
     "inputWidgets": {},
     "nuid": "847abfd1-7424-43c0-976e-5c615736a56b",
     "showTitle": false,
     "title": ""
    }
   },
   "outputs": [
    {
     "output_type": "display_data",
     "data": {
      "text/html": [
       "<style scoped>\n",
       "  .table-result-container {\n",
       "    max-height: 300px;\n",
       "    overflow: auto;\n",
       "  }\n",
       "  table, th, td {\n",
       "    border: 1px solid black;\n",
       "    border-collapse: collapse;\n",
       "  }\n",
       "  th, td {\n",
       "    padding: 5px;\n",
       "  }\n",
       "  th {\n",
       "    text-align: left;\n",
       "  }\n",
       "</style><div class='table-result-container'><table class='table-result'><thead style='background-color: white'><tr><th>PULocationID</th><th>total_trips</th><th>average profitability</th><th>total passenger</th><th>LocationID</th><th>Zone</th></tr></thead><tbody><tr><td>1</td><td>46</td><td>300.23702571854193</td><td>55.0</td><td>1</td><td>Newark Airport</td></tr><tr><td>15</td><td>74</td><td>288.39417611738327</td><td>35.0</td><td>15</td><td>Bay Terrace/Fort Totten</td></tr><tr><td>206</td><td>6</td><td>147.6813775856173</td><td>3.0</td><td>206</td><td>Saint George/New Brighton</td></tr><tr><td>120</td><td>26</td><td>122.67460688200988</td><td>33.0</td><td>120</td><td>Highbridge Park</td></tr><tr><td>227</td><td>169</td><td>119.85519047814084</td><td>30.0</td><td>227</td><td>Sunset Park East</td></tr><tr><td>70</td><td>1042</td><td>104.44136529397991</td><td>1433.0</td><td>70</td><td>East Elmhurst</td></tr><tr><td>14</td><td>364</td><td>98.6774248663507</td><td>151.0</td><td>14</td><td>Bay Ridge</td></tr><tr><td>93</td><td>72</td><td>97.08803207215891</td><td>80.0</td><td>93</td><td>Flushing Meadows-Corona Park</td></tr><tr><td>190</td><td>79</td><td>86.20174291896654</td><td>71.0</td><td>190</td><td>Prospect Park</td></tr><tr><td>118</td><td>7</td><td>80.72293283135613</td><td>4.0</td><td>118</td><td>Heartland Village/Todt Hill</td></tr></tbody></table></div>"
      ]
     },
     "metadata": {
      "application/vnd.databricks.v1+output": {
       "addedWidgets": {},
       "aggData": [],
       "aggError": "",
       "aggOverflow": false,
       "aggSchema": [],
       "aggSeriesLimitReached": false,
       "aggType": "",
       "arguments": {},
       "columnCustomDisplayInfos": {},
       "data": [
        [
         1,
         46,
         300.23702571854193,
         55.0,
         1,
         "Newark Airport"
        ],
        [
         15,
         74,
         288.39417611738327,
         35.0,
         15,
         "Bay Terrace/Fort Totten"
        ],
        [
         206,
         6,
         147.6813775856173,
         3.0,
         206,
         "Saint George/New Brighton"
        ],
        [
         120,
         26,
         122.67460688200988,
         33.0,
         120,
         "Highbridge Park"
        ],
        [
         227,
         169,
         119.85519047814084,
         30.0,
         227,
         "Sunset Park East"
        ],
        [
         70,
         1042,
         104.44136529397991,
         1433.0,
         70,
         "East Elmhurst"
        ],
        [
         14,
         364,
         98.6774248663507,
         151.0,
         14,
         "Bay Ridge"
        ],
        [
         93,
         72,
         97.08803207215891,
         80.0,
         93,
         "Flushing Meadows-Corona Park"
        ],
        [
         190,
         79,
         86.20174291896654,
         71.0,
         190,
         "Prospect Park"
        ],
        [
         118,
         7,
         80.72293283135613,
         4.0,
         118,
         "Heartland Village/Todt Hill"
        ]
       ],
       "datasetInfos": [],
       "dbfsResultPath": null,
       "isJsonSchema": true,
       "metadata": {},
       "overflow": false,
       "plotOptions": {
        "customPlotOptions": {},
        "displayType": "table",
        "pivotAggregation": null,
        "pivotColumns": null,
        "xColumns": null,
        "yColumns": null
       },
       "removedWidgets": [],
       "schema": [
        {
         "metadata": "{}",
         "name": "PULocationID",
         "type": "\"long\""
        },
        {
         "metadata": "{}",
         "name": "total_trips",
         "type": "\"long\""
        },
        {
         "metadata": "{}",
         "name": "average profitability",
         "type": "\"double\""
        },
        {
         "metadata": "{}",
         "name": "total passenger",
         "type": "\"double\""
        },
        {
         "metadata": "{}",
         "name": "LocationID",
         "type": "\"long\""
        },
        {
         "metadata": "{}",
         "name": "Zone",
         "type": "\"string\""
        }
       ],
       "type": "table"
      }
     },
     "output_type": "display_data"
    }
   ],
   "source": [
    "# use 'display()' return a pandas DataFrame for 'pretty' output\n",
    "#top10_profit\n",
    "display(top10_profit)"
   ]
  },
  {
   "cell_type": "code",
   "execution_count": 0,
   "metadata": {
    "application/vnd.databricks.v1+cell": {
     "cellMetadata": {
      "byteLimit": 2048000,
      "rowLimit": 10000
     },
     "inputWidgets": {},
     "nuid": "90eb7561-5775-4e6a-8317-473f311e4cfe",
     "showTitle": false,
     "title": ""
    }
   },
   "outputs": [
    {
     "output_type": "display_data",
     "data": {
      "text/html": [
       "<style scoped>\n",
       "  .table-result-container {\n",
       "    max-height: 300px;\n",
       "    overflow: auto;\n",
       "  }\n",
       "  table, th, td {\n",
       "    border: 1px solid black;\n",
       "    border-collapse: collapse;\n",
       "  }\n",
       "  th, td {\n",
       "    padding: 5px;\n",
       "  }\n",
       "  th {\n",
       "    text-align: left;\n",
       "  }\n",
       "</style><div class='table-result-container'><table class='table-result'><thead style='background-color: white'><tr><th>PULocationID</th><th>total_trips</th><th>average profitability</th><th>total passenger</th><th>LocationID</th><th>Zone</th></tr></thead><tbody><tr><td>237</td><td>123407</td><td>7.646555928677428</td><td>172033.0</td><td>237</td><td>Upper East Side South</td></tr><tr><td>236</td><td>105072</td><td>6.979484429256904</td><td>145730.0</td><td>236</td><td>Upper East Side North</td></tr><tr><td>186</td><td>98289</td><td>10.930086418041705</td><td>139346.0</td><td>186</td><td>Penn Station/Madison Sq West</td></tr><tr><td>161</td><td>94964</td><td>8.430137067819656</td><td>136785.0</td><td>161</td><td>Midtown Center</td></tr><tr><td>170</td><td>89789</td><td>9.991756440443568</td><td>125613.0</td><td>170</td><td>Murray Hill</td></tr><tr><td>162</td><td>86387</td><td>7.9017548520981915</td><td>121418.0</td><td>162</td><td>Midtown East</td></tr><tr><td>142</td><td>82045</td><td>7.804087577291357</td><td>116186.0</td><td>142</td><td>Lincoln Square East</td></tr><tr><td>48</td><td>75921</td><td>8.87966179291784</td><td>109070.0</td><td>48</td><td>Clinton East</td></tr><tr><td>239</td><td>75829</td><td>8.154611278249472</td><td>107375.0</td><td>239</td><td>Upper West Side South</td></tr><tr><td>79</td><td>74930</td><td>9.260490093904522</td><td>107156.0</td><td>79</td><td>East Village</td></tr></tbody></table></div>"
      ]
     },
     "metadata": {
      "application/vnd.databricks.v1+output": {
       "addedWidgets": {},
       "aggData": [],
       "aggError": "",
       "aggOverflow": false,
       "aggSchema": [],
       "aggSeriesLimitReached": false,
       "aggType": "",
       "arguments": {},
       "columnCustomDisplayInfos": {},
       "data": [
        [
         237,
         123407,
         7.646555928677428,
         172033.0,
         237,
         "Upper East Side South"
        ],
        [
         236,
         105072,
         6.979484429256904,
         145730.0,
         236,
         "Upper East Side North"
        ],
        [
         186,
         98289,
         10.930086418041705,
         139346.0,
         186,
         "Penn Station/Madison Sq West"
        ],
        [
         161,
         94964,
         8.430137067819656,
         136785.0,
         161,
         "Midtown Center"
        ],
        [
         170,
         89789,
         9.991756440443568,
         125613.0,
         170,
         "Murray Hill"
        ],
        [
         162,
         86387,
         7.9017548520981915,
         121418.0,
         162,
         "Midtown East"
        ],
        [
         142,
         82045,
         7.804087577291357,
         116186.0,
         142,
         "Lincoln Square East"
        ],
        [
         48,
         75921,
         8.87966179291784,
         109070.0,
         48,
         "Clinton East"
        ],
        [
         239,
         75829,
         8.154611278249472,
         107375.0,
         239,
         "Upper West Side South"
        ],
        [
         79,
         74930,
         9.260490093904522,
         107156.0,
         79,
         "East Village"
        ]
       ],
       "datasetInfos": [],
       "dbfsResultPath": null,
       "isJsonSchema": true,
       "metadata": {},
       "overflow": false,
       "plotOptions": {
        "customPlotOptions": {},
        "displayType": "table",
        "pivotAggregation": null,
        "pivotColumns": null,
        "xColumns": null,
        "yColumns": null
       },
       "removedWidgets": [],
       "schema": [
        {
         "metadata": "{}",
         "name": "PULocationID",
         "type": "\"long\""
        },
        {
         "metadata": "{}",
         "name": "total_trips",
         "type": "\"long\""
        },
        {
         "metadata": "{}",
         "name": "average profitability",
         "type": "\"double\""
        },
        {
         "metadata": "{}",
         "name": "total passenger",
         "type": "\"double\""
        },
        {
         "metadata": "{}",
         "name": "LocationID",
         "type": "\"long\""
        },
        {
         "metadata": "{}",
         "name": "Zone",
         "type": "\"string\""
        }
       ],
       "type": "table"
      }
     },
     "output_type": "display_data"
    }
   ],
   "source": [
    "# use 'display()' or return a pandas DataFrame for 'pretty' output\n",
    "#top10_passenger\n",
    "display(top10_passenger)"
   ]
  },
  {
   "cell_type": "markdown",
   "metadata": {
    "application/vnd.databricks.v1+cell": {
     "cellMetadata": {},
     "inputWidgets": {},
     "nuid": "7b950c5e-b7fd-405e-a0ba-0fe9c2752678",
     "showTitle": false,
     "title": ""
    }
   },
   "source": [
    "## Task 4 - Record the pipeline's execution time\n",
    "\n",
    "Record the execution time of:\n",
    "\n",
    "1. the whole pipeline\n",
    "2. the whole pipeline except task 1.2\n",
    "\n",
    "on the two tables below, for all dataset sizes: `'S'`, `'M'`, `'L'`, `'XL'`, `'XXL'`, and data formats: `parquet` and `delta`.\n",
    "\n",
    "Analyse the resulting execution times and comment on the effect of dataset size, dataset format and task complexity (with and without task 1.2) on pipeline performance."
   ]
  },
  {
   "cell_type": "code",
   "execution_count": 0,
   "metadata": {
    "application/vnd.databricks.v1+cell": {
     "cellMetadata": {
      "byteLimit": 2048000,
      "rowLimit": 10000
     },
     "inputWidgets": {},
     "nuid": "a0e68e8c-4de9-4e04-9de0-f36e24b10f7a",
     "showTitle": false,
     "title": ""
    }
   },
   "outputs": [
    {
     "output_type": "stream",
     "name": "stdout",
     "output_type": "stream",
     "text": [
      "\n    Trips dataset loaded!\n    ---\n      Size: S\n      Format: parquet\n      Tables loaded: ['/FileStore/tables/taxi/parquet/tripdata_2021_07.parquet']\n      Number of trips (dataset rows): 2,898,033\n    \n"
     ]
    }
   ],
   "source": [
    "# CHANGE the value of the following arguments to record the pipeline execution times for increasing dataset sizes\n",
    "SIZE = 'S'\n",
    "DATA_FORMAT = 'parquet'\n",
    "WITH_TASK_12 = True\n",
    "\n",
    "# Load trips dataset\n",
    "trips = init_trips(SIZE, DATA_FORMAT)"
   ]
  },
  {
   "cell_type": "code",
   "execution_count": 0,
   "metadata": {
    "application/vnd.databricks.v1+cell": {
     "cellMetadata": {
      "byteLimit": 2048000,
      "rowLimit": 10000
     },
     "inputWidgets": {},
     "nuid": "68681494-9d89-4706-908d-c5545444e8ca",
     "showTitle": false,
     "title": ""
    }
   },
   "outputs": [
    {
     "output_type": "execute_result",
     "data": {
      "text/plain": [
       "[[Row(PULocationID=237, total_trips=123407, average profitability=7.646555928677428, total passenger=172033.0, LocationID=237, Zone='Upper East Side South'),\n",
       "  Row(PULocationID=236, total_trips=105072, average profitability=6.979484429256904, total passenger=145730.0, LocationID=236, Zone='Upper East Side North'),\n",
       "  Row(PULocationID=186, total_trips=98289, average profitability=10.930086418041705, total passenger=139346.0, LocationID=186, Zone='Penn Station/Madison Sq West'),\n",
       "  Row(PULocationID=161, total_trips=94964, average profitability=8.430137067819656, total passenger=136785.0, LocationID=161, Zone='Midtown Center'),\n",
       "  Row(PULocationID=170, total_trips=89789, average profitability=9.991756440443568, total passenger=125613.0, LocationID=170, Zone='Murray Hill'),\n",
       "  Row(PULocationID=162, total_trips=86387, average profitability=7.9017548520981915, total passenger=121418.0, LocationID=162, Zone='Midtown East'),\n",
       "  Row(PULocationID=142, total_trips=82045, average profitability=7.804087577291357, total passenger=116186.0, LocationID=142, Zone='Lincoln Square East'),\n",
       "  Row(PULocationID=48, total_trips=75921, average profitability=8.87966179291784, total passenger=109070.0, LocationID=48, Zone='Clinton East'),\n",
       "  Row(PULocationID=239, total_trips=75829, average profitability=8.154611278249472, total passenger=107375.0, LocationID=239, Zone='Upper West Side South'),\n",
       "  Row(PULocationID=141, total_trips=75381, average profitability=11.119831042584911, total passenger=105110.0, LocationID=141, Zone='Lenox Hill West')],\n",
       " [Row(PULocationID=1, total_trips=46, average profitability=300.23702571854193, total passenger=55.0, LocationID=1, Zone='Newark Airport'),\n",
       "  Row(PULocationID=15, total_trips=74, average profitability=288.39417611738327, total passenger=35.0, LocationID=15, Zone='Bay Terrace/Fort Totten'),\n",
       "  Row(PULocationID=206, total_trips=6, average profitability=147.6813775856173, total passenger=3.0, LocationID=206, Zone='Saint George/New Brighton'),\n",
       "  Row(PULocationID=120, total_trips=26, average profitability=122.67460688200988, total passenger=33.0, LocationID=120, Zone='Highbridge Park'),\n",
       "  Row(PULocationID=227, total_trips=169, average profitability=119.85519047814084, total passenger=30.0, LocationID=227, Zone='Sunset Park East'),\n",
       "  Row(PULocationID=70, total_trips=1042, average profitability=104.44136529397991, total passenger=1433.0, LocationID=70, Zone='East Elmhurst'),\n",
       "  Row(PULocationID=14, total_trips=364, average profitability=98.6774248663507, total passenger=151.0, LocationID=14, Zone='Bay Ridge'),\n",
       "  Row(PULocationID=93, total_trips=72, average profitability=97.08803207215891, total passenger=80.0, LocationID=93, Zone='Flushing Meadows-Corona Park'),\n",
       "  Row(PULocationID=190, total_trips=79, average profitability=86.20174291896654, total passenger=71.0, LocationID=190, Zone='Prospect Park'),\n",
       "  Row(PULocationID=118, total_trips=7, average profitability=80.72293283135613, total passenger=4.0, LocationID=118, Zone='Heartland Village/Todt Hill')],\n",
       " [Row(PULocationID=237, total_trips=123407, average profitability=7.646555928677428, total passenger=172033.0, LocationID=237, Zone='Upper East Side South'),\n",
       "  Row(PULocationID=236, total_trips=105072, average profitability=6.979484429256904, total passenger=145730.0, LocationID=236, Zone='Upper East Side North'),\n",
       "  Row(PULocationID=186, total_trips=98289, average profitability=10.930086418041705, total passenger=139346.0, LocationID=186, Zone='Penn Station/Madison Sq West'),\n",
       "  Row(PULocationID=161, total_trips=94964, average profitability=8.430137067819656, total passenger=136785.0, LocationID=161, Zone='Midtown Center'),\n",
       "  Row(PULocationID=170, total_trips=89789, average profitability=9.991756440443568, total passenger=125613.0, LocationID=170, Zone='Murray Hill'),\n",
       "  Row(PULocationID=162, total_trips=86387, average profitability=7.9017548520981915, total passenger=121418.0, LocationID=162, Zone='Midtown East'),\n",
       "  Row(PULocationID=142, total_trips=82045, average profitability=7.804087577291357, total passenger=116186.0, LocationID=142, Zone='Lincoln Square East'),\n",
       "  Row(PULocationID=48, total_trips=75921, average profitability=8.87966179291784, total passenger=109070.0, LocationID=48, Zone='Clinton East'),\n",
       "  Row(PULocationID=239, total_trips=75829, average profitability=8.154611278249472, total passenger=107375.0, LocationID=239, Zone='Upper West Side South'),\n",
       "  Row(PULocationID=79, total_trips=74930, average profitability=9.260490093904522, total passenger=107156.0, LocationID=79, Zone='East Village')]]"
      ]
     },
     "execution_count": 28,
     "metadata": {},
     "output_type": "execute_result"
    }
   ],
   "source": [
    "# run and record the resulting execution time shown by databricks (on the cell footer)\n",
    "\n",
    "# IMPORTANT: this function calls all task functions in order of occurrence. For this code to run without errors, you have to load into memory all of the previous task-specific functions, even if you haven't implemented these yet.\n",
    "pipeline(trips, with_task_12 = WITH_TASK_12)"
   ]
  },
  {
   "cell_type": "markdown",
   "metadata": {
    "application/vnd.databricks.v1+cell": {
     "cellMetadata": {},
     "inputWidgets": {},
     "nuid": "08018100-ac87-4801-94fc-c9fec3dc6a66",
     "showTitle": false,
     "title": ""
    }
   },
   "source": [
    "_Table 1. Pipeline performance for `parquet` format._\n",
    "\n",
    "| metric                      | S    | M    | L    | XL   | XXL  |\n",
    "|-----------------------------|------|------|------|------|------|\n",
    "| rows (M)                    |  000 |  000 |  000 |  000 |  000 |\n",
    "| execution time   (w/o 1.2)  | 0.00 | 0.00 | 0.00 | 0.00 | 0.00 |\n",
    "| execution time              | 0.00 | 0.00 | 0.00 | 0.00 | 0.00 |\n",
    "| sec / 1M records (w/o 1.2)  | 0.0  | 0.0  | 0.0  | 0.0  | 0.0  |\n",
    "| sec / 1M records            | 0.0  | 0.0  | 0.0  | 0.0  | 0.0  |"
   ]
  },
  {
   "cell_type": "markdown",
   "metadata": {
    "application/vnd.databricks.v1+cell": {
     "cellMetadata": {},
     "inputWidgets": {},
     "nuid": "e565c658-ba51-45cc-a617-227d6befb6dc",
     "showTitle": false,
     "title": ""
    }
   },
   "source": [
    "_Table 2. Pipeline performance for `delta` format._\n",
    "\n",
    "| metric                      | S    | M    | L    | XL   | XXL  |\n",
    "|-----------------------------|------|------|------|------|------|\n",
    "| rows (M)                    |  000 |  000 |  000 |  000 |  000 |\n",
    "| execution time   (w/o 1.2)  | 0.00 | 0.00 | 0.00 | 0.00 | 0.00 |\n",
    "| execution time              | 0.00 | 0.00 | 0.00 | 0.00 | 0.00 |\n",
    "| sec / 1M records (w/o 1.2)  | 0.0  | 0.0  | 0.0  | 0.0  | 0.0  |\n",
    "| sec / 1M records            | 0.0  | 0.0  | 0.0  | 0.0  | 0.0  |"
   ]
  }
 ],
 "metadata": {
  "application/vnd.databricks.v1+notebook": {
   "dashboards": [],
   "language": "python",
   "notebookMetadata": {
    "pythonIndentUnit": 4
   },
   "notebookName": "CSC8101-spark-coursework",
   "widgets": {}
  },
  "language_info": {
   "name": "plaintext"
  }
 },
 "nbformat": 4,
 "nbformat_minor": 0
}
